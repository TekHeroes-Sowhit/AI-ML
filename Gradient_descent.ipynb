{
 "cells": [
  {
   "cell_type": "code",
   "execution_count": null,
   "metadata": {},
   "outputs": [],
   "source": []
  },
  {
   "cell_type": "code",
   "execution_count": 25,
   "metadata": {},
   "outputs": [],
   "source": [
    "import pandas as pd\n",
    "import numpy as np\n",
    "%matplotlib inline\n",
    "import matplotlib.pyplot as plt\n",
    "import random"
   ]
  },
  {
   "cell_type": "code",
   "execution_count": 16,
   "metadata": {},
   "outputs": [],
   "source": [
    "df=pd.read_csv('file:///C:/Users/00824732/Desktop/Bedrooms.csv')"
   ]
  },
  {
   "cell_type": "code",
   "execution_count": 17,
   "metadata": {},
   "outputs": [],
   "source": [
    "from sklearn import preprocessing"
   ]
  },
  {
   "cell_type": "code",
   "execution_count": 19,
   "metadata": {},
   "outputs": [
    {
     "data": {
      "text/plain": [
       "array([[0.40540541, 0.66666667],\n",
       "       [0.45945946, 1.        ],\n",
       "       [0.        , 0.        ],\n",
       "       [1.        , 0.        ]])"
      ]
     },
     "execution_count": 19,
     "metadata": {},
     "output_type": "execute_result"
    }
   ],
   "source": [
    "sx=preprocessing.MinMaxScaler()\n",
    "sy=preprocessing.MinMaxScaler()\n",
    "scaled_x=sx.fit_transform(df.drop('price',axis='columns'))\n",
    "scaled_x"
   ]
  },
  {
   "cell_type": "code",
   "execution_count": 20,
   "metadata": {},
   "outputs": [],
   "source": [
    "scaled_y=sy.fit_transform(df[\"price\"].values.reshape(df.shape[0],1))"
   ]
  },
  {
   "cell_type": "code",
   "execution_count": 21,
   "metadata": {},
   "outputs": [
    {
     "ename": "UnboundLocalError",
     "evalue": "local variable 'w' referenced before assignment",
     "output_type": "error",
     "traceback": [
      "\u001b[1;31m---------------------------------------------------------------------------\u001b[0m",
      "\u001b[1;31mUnboundLocalError\u001b[0m                         Traceback (most recent call last)",
      "\u001b[1;32mUntitled-2.ipynb Cell 7\u001b[0m in \u001b[0;36m<module>\u001b[1;34m\u001b[0m\n\u001b[0;32m     <a href='vscode-notebook-cell:Untitled-2.ipynb?jupyter-notebook#W1sdW50aXRsZWQ%3D?line=12'>13</a>\u001b[0m             epoch_list\u001b[39m.\u001b[39mappend(i)\n\u001b[0;32m     <a href='vscode-notebook-cell:Untitled-2.ipynb?jupyter-notebook#W1sdW50aXRsZWQ%3D?line=13'>14</a>\u001b[0m     \u001b[39mreturn\u001b[39;00m w,b,cost,cost_list,epoch_list\n\u001b[1;32m---> <a href='vscode-notebook-cell:Untitled-2.ipynb?jupyter-notebook#W1sdW50aXRsZWQ%3D?line=14'>15</a>\u001b[0m w,b,cost_list,epoch_list\u001b[39m=\u001b[39mbatch_gradient_descent(scaled_x,scaled_y\u001b[39m.\u001b[39;49mreshape(scaled_y\u001b[39m.\u001b[39;49mshape[\u001b[39m0\u001b[39;49m],),\u001b[39m500\u001b[39;49m)\n\u001b[0;32m     <a href='vscode-notebook-cell:Untitled-2.ipynb?jupyter-notebook#W1sdW50aXRsZWQ%3D?line=15'>16</a>\u001b[0m w,b,cost\n",
      "\u001b[1;32mUntitled-2.ipynb Cell 7\u001b[0m in \u001b[0;36mbatch_gradient_descent\u001b[1;34m(x, y_true, epochs, learning_rate)\u001b[0m\n\u001b[0;32m      <a href='vscode-notebook-cell:Untitled-2.ipynb?jupyter-notebook#W1sdW50aXRsZWQ%3D?line=3'>4</a>\u001b[0m total_samples\u001b[39m=\u001b[39mx\u001b[39m.\u001b[39mshape[\u001b[39m0\u001b[39m]\n\u001b[0;32m      <a href='vscode-notebook-cell:Untitled-2.ipynb?jupyter-notebook#W1sdW50aXRsZWQ%3D?line=4'>5</a>\u001b[0m \u001b[39mfor\u001b[39;00m i \u001b[39min\u001b[39;00m \u001b[39mrange\u001b[39m(epochs):\n\u001b[1;32m----> <a href='vscode-notebook-cell:Untitled-2.ipynb?jupyter-notebook#W1sdW50aXRsZWQ%3D?line=5'>6</a>\u001b[0m     y_predicted\u001b[39m=\u001b[39mnp\u001b[39m.\u001b[39mdot(w,scaled_x\u001b[39m.\u001b[39mT)\u001b[39m+\u001b[39mbias\n\u001b[0;32m      <a href='vscode-notebook-cell:Untitled-2.ipynb?jupyter-notebook#W1sdW50aXRsZWQ%3D?line=6'>7</a>\u001b[0m     w_grad\u001b[39m=\u001b[39m\u001b[39m-\u001b[39m(\u001b[39m2\u001b[39m\u001b[39m/\u001b[39mtotal_samples)\u001b[39m*\u001b[39m(x\u001b[39m.\u001b[39mT\u001b[39m.\u001b[39mdot())\n\u001b[0;32m      <a href='vscode-notebook-cell:Untitled-2.ipynb?jupyter-notebook#W1sdW50aXRsZWQ%3D?line=7'>8</a>\u001b[0m     w\u001b[39m=\u001b[39mw\u001b[39m-\u001b[39mlearning_rate\u001b[39m*\u001b[39mw_grad\n",
      "\u001b[1;31mUnboundLocalError\u001b[0m: local variable 'w' referenced before assignment"
     ]
    }
   ],
   "source": [
    "def batch_gradient_descent(x,y_true,epochs,learning_rate=0.01):\n",
    "    no_features=x.shape[1]\n",
    "    b=0\n",
    "    total_samples=x.shape[0]\n",
    "    for i in range(epochs):\n",
    "        y_predicted=np.dot(w,scaled_x.T)+bias\n",
    "        w_grad=-(2/total_samples)*(x.T.dot())\n",
    "        w=w-learning_rate*w_grad\n",
    "        b=b-learning_rate*b_grad\n",
    "        cost=np.mean(np.square(y_true-y_predicted))\n",
    "        if i%10==0:\n",
    "            cost_list.append(cost)\n",
    "            epoch_list.append(i)\n",
    "    return w,b,cost,cost_list,epoch_list\n",
    "w,b,cost_list,epoch_list=batch_gradient_descent(scaled_x,scaled_y.reshape(scaled_y.shape[0],),500)\n",
    "w,b,cost\n"
   ]
  },
  {
   "cell_type": "code",
   "execution_count": 23,
   "metadata": {},
   "outputs": [],
   "source": [
    "def pred(area,bedroom,w,b):\n",
    "    scaled_x=sx.transform([[area,bedrooms]])[0]\n",
    "    scaled_price=w[0]*scaled_x[0]\n",
    "    scaled_price=w[0]*scaled_x[0]+scaled_x[1]+b\n",
    "    return sy.inverse_transform([[scaled_price]])[0][0]\n",
    "\n",
    "predict(2600,4,w,b)"
   ]
  },
  {
   "cell_type": "code",
   "execution_count": 32,
   "metadata": {},
   "outputs": [
    {
     "ename": "NameError",
     "evalue": "name 'sample_y' is not defined",
     "output_type": "error",
     "traceback": [
      "\u001b[1;31m---------------------------------------------------------------------------\u001b[0m",
      "\u001b[1;31mNameError\u001b[0m                                 Traceback (most recent call last)",
      "\u001b[1;32mUntitled-2.ipynb Cell 9\u001b[0m in \u001b[0;36m<module>\u001b[1;34m\u001b[0m\n\u001b[0;32m     <a href='vscode-notebook-cell:Untitled-2.ipynb?jupyter-notebook#X16sdW50aXRsZWQ%3D?line=19'>20</a>\u001b[0m             epoch_list\u001b[39m.\u001b[39mappend(i)\n\u001b[0;32m     <a href='vscode-notebook-cell:Untitled-2.ipynb?jupyter-notebook#X16sdW50aXRsZWQ%3D?line=20'>21</a>\u001b[0m     \u001b[39mreturn\u001b[39;00m w,b,cost,cost_list,epoch_list\n\u001b[1;32m---> <a href='vscode-notebook-cell:Untitled-2.ipynb?jupyter-notebook#X16sdW50aXRsZWQ%3D?line=22'>23</a>\u001b[0m w_sgd,b_sgd,cost_list_sgdt,epoch_list_sgd\u001b[39m=\u001b[39mstochastic_gradient_descent(scaled_x,scaled_y\u001b[39m.\u001b[39;49mreshape(scaled_y\u001b[39m.\u001b[39;49mshape[\u001b[39m0\u001b[39;49m],),\u001b[39m500\u001b[39;49m)\n",
      "\u001b[1;32mUntitled-2.ipynb Cell 9\u001b[0m in \u001b[0;36mstochastic_gradient_descent\u001b[1;34m(x, y_true, epochs, learning_rate)\u001b[0m\n\u001b[0;32m     <a href='vscode-notebook-cell:Untitled-2.ipynb?jupyter-notebook#X16sdW50aXRsZWQ%3D?line=10'>11</a>\u001b[0m sanple_y\u001b[39m=\u001b[39my_true[random_index]\n\u001b[0;32m     <a href='vscode-notebook-cell:Untitled-2.ipynb?jupyter-notebook#X16sdW50aXRsZWQ%3D?line=11'>12</a>\u001b[0m y_predicted\u001b[39m=\u001b[39mnp\u001b[39m.\u001b[39mdot(w,sample_x\u001b[39m.\u001b[39mT)\u001b[39m+\u001b[39mb\n\u001b[1;32m---> <a href='vscode-notebook-cell:Untitled-2.ipynb?jupyter-notebook#X16sdW50aXRsZWQ%3D?line=12'>13</a>\u001b[0m w_grad\u001b[39m=\u001b[39m\u001b[39m-\u001b[39m(\u001b[39m2\u001b[39m\u001b[39m/\u001b[39mtotal_samples)\u001b[39m*\u001b[39m(x\u001b[39m.\u001b[39mT\u001b[39m.\u001b[39mdot(sample_y\u001b[39m-\u001b[39my_predicted))\n\u001b[0;32m     <a href='vscode-notebook-cell:Untitled-2.ipynb?jupyter-notebook#X16sdW50aXRsZWQ%3D?line=13'>14</a>\u001b[0m b_grad\u001b[39m=\u001b[39m\u001b[39m-\u001b[39m(\u001b[39m2\u001b[39m\u001b[39m/\u001b[39mtotal_samples)\u001b[39m*\u001b[39m(sample_y\u001b[39m-\u001b[39my_predicted)\n\u001b[0;32m     <a href='vscode-notebook-cell:Untitled-2.ipynb?jupyter-notebook#X16sdW50aXRsZWQ%3D?line=14'>15</a>\u001b[0m w\u001b[39m=\u001b[39mw\u001b[39m-\u001b[39mlearning_rate\u001b[39m*\u001b[39mw_grad\n",
      "\u001b[1;31mNameError\u001b[0m: name 'sample_y' is not defined"
     ]
    }
   ],
   "source": [
    "def stochastic_gradient_descent(x,y_true,epochs,learning_rate=0.01):\n",
    "    number_of_features=x.shape[1]\n",
    "    w=np.ones(shape=(number_of_features))\n",
    "    b=0\n",
    "    total_samples=x.shape[0]\n",
    "    cot_list=[]\n",
    "    epoch_list=[]\n",
    "    for i in range(epochs):\n",
    "        random_index=random.randint(0,total_samples-1)\n",
    "        sample_x=x[random_index]\n",
    "        sanple_y=y_true[random_index]\n",
    "        y_predicted=np.dot(w,sample_x.T)+b\n",
    "        w_grad=-(2/total_samples)*(x.T.dot(sample_y-y_predicted))\n",
    "        b_grad=-(2/total_samples)*(sample_y-y_predicted)\n",
    "        w=w-learning_rate*w_grad\n",
    "        b=b-learning_rate*b_grad\n",
    "        cost=np.mean(np.square(y_true-y_predicted))\n",
    "        if i%10==0:\n",
    "            cost_list.append(cost)\n",
    "            epoch_list.append(i)\n",
    "    return w,b,cost,cost_list,epoch_list\n",
    "    \n",
    "w_sgd,b_sgd,cost_list_sgdt,epoch_list_sgd=stochastic_gradient_descent(scaled_x,scaled_y.reshape(scaled_y.shape[0],),500)\n"
   ]
  }
 ],
 "metadata": {
  "kernelspec": {
   "display_name": "Python 3",
   "language": "python",
   "name": "python3"
  },
  "language_info": {
   "codemirror_mode": {
    "name": "ipython",
    "version": 3
   },
   "file_extension": ".py",
   "mimetype": "text/x-python",
   "name": "python",
   "nbconvert_exporter": "python",
   "pygments_lexer": "ipython3",
   "version": "3.9.13"
  },
  "orig_nbformat": 4,
  "vscode": {
   "interpreter": {
    "hash": "1e57b5609a0adf6ef8af7ad6d2063e8e9c24ef6935f7306ae9ba467b68a2bc1a"
   }
  }
 },
 "nbformat": 4,
 "nbformat_minor": 2
}
