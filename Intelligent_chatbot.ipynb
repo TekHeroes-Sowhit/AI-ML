{
 "cells": [
  {
   "cell_type": "code",
   "execution_count": 1,
   "metadata": {},
   "outputs": [
    {
     "ename": "SyntaxError",
     "evalue": "invalid syntax (2983941079.py, line 37)",
     "output_type": "error",
     "traceback": [
      "\u001b[1;36m  Input \u001b[1;32mIn [1]\u001b[1;36m\u001b[0m\n\u001b[1;33m    train_x=list(training[])\u001b[0m\n\u001b[1;37m                          ^\u001b[0m\n\u001b[1;31mSyntaxError\u001b[0m\u001b[1;31m:\u001b[0m invalid syntax\n"
     ]
    }
   ],
   "source": [
    "\n",
    "import random\n",
    "import json\n",
    "import pickle\n",
    "from nltk.stem import WordNetLemmatizer\n",
    "lemma=WordNetLemmatizer()\n",
    "intents=json.loads(open('intents.json').read())\n",
    "words=[]\n",
    "classes=[]\n",
    "documents=[]\n",
    "ignore_letters=['?','>','.']\n",
    "for intents in intents['intents']:\n",
    "    for pattern in intent['patterns']:\n",
    "        word_list=nltk.tokenize(pattern)\n",
    "        words.append(word_list)\n",
    "        document.append((word_list,intent['tag']))\n",
    "        if intent['tag'] not in classes:\n",
    "            classes.append(intent['tag'])\n",
    "\n",
    "words=[lemmatizer.lemmatize(word) for word in words if word not in ignore_letters]\n",
    "words=sorted(set(words))\n",
    "classes=sorted(set(classes))\n",
    "pickle.dumps(words,open('words.pkl','wb'))\n",
    "pickle.dumps(words,open('classes.pkl','wb'))\n",
    "training=[]\n",
    "output_empty=[0]*len(classes)\n",
    "for document in documents:\n",
    "    word_patterns=document[0]\n",
    "    word_patterns=[lemmatizer.lemmatize(word.lower) for word in word_patterns]\n",
    "    for word in words:\n",
    "        bag.append(1) if word in word_patterns else bag.append(0)\n",
    "    output_row=list(output_empty)\n",
    "    output_row[classes.index(document[1])]=1\n",
    "    training.append([bag,output_row])\n",
    "\n",
    "random.shuffle(training)\n",
    "training=np.array(training)\n",
    "train_x=list(training[])\n",
    "print(words)"
   ]
  }
 ],
 "metadata": {
  "kernelspec": {
   "display_name": "Python 3.9.13 64-bit (microsoft store)",
   "language": "python",
   "name": "python3"
  },
  "language_info": {
   "codemirror_mode": {
    "name": "ipython",
    "version": 3
   },
   "file_extension": ".py",
   "mimetype": "text/x-python",
   "name": "python",
   "nbconvert_exporter": "python",
   "pygments_lexer": "ipython3",
   "version": "3.9.13"
  },
  "orig_nbformat": 4,
  "vscode": {
   "interpreter": {
    "hash": "1e57b5609a0adf6ef8af7ad6d2063e8e9c24ef6935f7306ae9ba467b68a2bc1a"
   }
  }
 },
 "nbformat": 4,
 "nbformat_minor": 2
}
